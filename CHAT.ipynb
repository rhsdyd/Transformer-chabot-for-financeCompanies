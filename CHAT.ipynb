{
 "cells": [
  {
   "cell_type": "code",
   "execution_count": 1,
   "id": "3f5282d2",
   "metadata": {
    "executionInfo": {
     "elapsed": 2826,
     "status": "ok",
     "timestamp": 1655767325859,
     "user": {
      "displayName": "Gwanyong Lim",
      "userId": "01217637638293137106"
     },
     "user_tz": -540
    },
    "id": "3f5282d2"
   },
   "outputs": [],
   "source": [
    "import json\n",
    "import pandas as pd\n",
    "import numpy as np\n",
    "import tensorflow as tf\n",
    "import tensorflow_datasets as tfds\n",
    "import matplotlib.pyplot as plt\n",
    "import copy\n",
    "import re"
   ]
  },
  {
   "cell_type": "code",
   "execution_count": 2,
   "id": "546d141d",
   "metadata": {
    "colab": {
     "base_uri": "https://localhost:8080/"
    },
    "executionInfo": {
     "elapsed": 10,
     "status": "ok",
     "timestamp": 1655767325860,
     "user": {
      "displayName": "Gwanyong Lim",
      "userId": "01217637638293137106"
     },
     "user_tz": -540
    },
    "id": "546d141d",
    "outputId": "266e386a-52bc-436d-fd56-a4535fed70ef"
   },
   "outputs": [
    {
     "name": "stdout",
     "output_type": "stream",
     "text": [
      "2.8.2\n"
     ]
    }
   ],
   "source": [
    "print(tf.__version__)"
   ]
  },
  {
   "cell_type": "code",
   "execution_count": 3,
   "id": "ea7eb471",
   "metadata": {
    "colab": {
     "base_uri": "https://localhost:8080/"
    },
    "executionInfo": {
     "elapsed": 8,
     "status": "ok",
     "timestamp": 1655767325860,
     "user": {
      "displayName": "Gwanyong Lim",
      "userId": "01217637638293137106"
     },
     "user_tz": -540
    },
    "id": "ea7eb471",
    "outputId": "1df03786-bea3-44b1-f7be-3b10318e920d"
   },
   "outputs": [
    {
     "name": "stdout",
     "output_type": "stream",
     "text": [
      "4.0.1\n"
     ]
    }
   ],
   "source": [
    "print(tfds.__version__)"
   ]
  },
  {
   "cell_type": "code",
   "execution_count": 4,
   "id": "-k5s-NXZMpbO",
   "metadata": {
    "colab": {
     "base_uri": "https://localhost:8080/"
    },
    "executionInfo": {
     "elapsed": 2595,
     "status": "ok",
     "timestamp": 1655767328451,
     "user": {
      "displayName": "Gwanyong Lim",
      "userId": "01217637638293137106"
     },
     "user_tz": -540
    },
    "id": "-k5s-NXZMpbO",
    "outputId": "6cec972b-f4ee-4a9a-c4bc-3a0e916fd4d6"
   },
   "outputs": [
    {
     "name": "stdout",
     "output_type": "stream",
     "text": [
      "Drive already mounted at /content/drive; to attempt to forcibly remount, call drive.mount(\"/content/drive\", force_remount=True).\n"
     ]
    }
   ],
   "source": [
    "# from google.colab import drive\n",
    "# drive.mount('/content/drive')"
   ]
  },
  {
   "cell_type": "markdown",
   "id": "78d1c81e",
   "metadata": {
    "id": "78d1c81e"
   },
   "source": [
    "## 상담 데이터 불러오기"
   ]
  },
  {
   "cell_type": "code",
   "execution_count": 23,
   "id": "985e5e04",
   "metadata": {
    "executionInfo": {
     "elapsed": 3,
     "status": "ok",
     "timestamp": 1655767328452,
     "user": {
      "displayName": "Gwanyong Lim",
      "userId": "01217637638293137106"
     },
     "user_tz": -540
    },
    "id": "985e5e04"
   },
   "outputs": [],
   "source": [
    "f = open('data1.json', encoding = 'utf-8')"
   ]
  },
  {
   "cell_type": "code",
   "execution_count": 24,
   "id": "d5bb73ad",
   "metadata": {
    "executionInfo": {
     "elapsed": 1836,
     "status": "ok",
     "timestamp": 1655767330285,
     "user": {
      "displayName": "Gwanyong Lim",
      "userId": "01217637638293137106"
     },
     "user_tz": -540
    },
    "id": "d5bb73ad"
   },
   "outputs": [],
   "source": [
    "data = json.load(f)"
   ]
  },
  {
   "cell_type": "code",
   "execution_count": 25,
   "id": "5d2c72be",
   "metadata": {
    "colab": {
     "base_uri": "https://localhost:8080/"
    },
    "executionInfo": {
     "elapsed": 18,
     "status": "ok",
     "timestamp": 1655767330290,
     "user": {
      "displayName": "Gwanyong Lim",
      "userId": "01217637638293137106"
     },
     "user_tz": -540
    },
    "id": "5d2c72be",
    "outputId": "5855da5a-190b-4b1d-9c07-09b6e8c4e3d0"
   },
   "outputs": [
    {
     "data": {
      "text/plain": [
       "{'도메인': '금융/보험',\n",
       " '카테고리': '상품 가입 및 해지',\n",
       " '대화셋일련번호': 'A4077',\n",
       " '화자': '고객',\n",
       " '문장번호': '1',\n",
       " '고객의도': '카드발급',\n",
       " '상담사의도': '',\n",
       " 'QA': 'Q',\n",
       " '고객질문(요청)': '신용카드를 만들려고 하는데 어떻게 하면 되죠?',\n",
       " '상담사질문(요청)': '',\n",
       " '고객답변': '',\n",
       " '상담사답변': '',\n",
       " '개체명 ': '신용카드',\n",
       " '용어사전': '신용카드/카드/결제수단',\n",
       " '지식베이스': '신용카드,결제수단'}"
      ]
     },
     "execution_count": 25,
     "metadata": {},
     "output_type": "execute_result"
    }
   ],
   "source": [
    "data[0]"
   ]
  },
  {
   "cell_type": "markdown",
   "id": "b8f71e71",
   "metadata": {
    "id": "b8f71e71"
   },
   "source": [
    "## json -> DataFrame"
   ]
  },
  {
   "cell_type": "code",
   "execution_count": 26,
   "id": "db55513b",
   "metadata": {
    "executionInfo": {
     "elapsed": 18,
     "status": "ok",
     "timestamp": 1655767330291,
     "user": {
      "displayName": "Gwanyong Lim",
      "userId": "01217637638293137106"
     },
     "user_tz": -540
    },
    "id": "db55513b"
   },
   "outputs": [],
   "source": [
    "customer = []\n",
    "consultant = []\n",
    "for i in range(len(data)):\n",
    "    if data[i]['화자'] == '고객' and len(data[i]['고객질문(요청)']) > 0 :\n",
    "        if data[i+1]['화자'] == '상담사':\n",
    "            if len(data[i+1]['상담사질문(요청)']) > 0 :\n",
    "                consultant.append(data[i+1]['상담사질문(요청)'])\n",
    "            else:\n",
    "                consultant.append(data[i+1]['상담사답변'])\n",
    "            customer.append(data[i]['고객질문(요청)'])\n",
    "            "
   ]
  },
  {
   "cell_type": "code",
   "execution_count": 27,
   "id": "91839e5a",
   "metadata": {
    "executionInfo": {
     "elapsed": 17,
     "status": "ok",
     "timestamp": 1655767330291,
     "user": {
      "displayName": "Gwanyong Lim",
      "userId": "01217637638293137106"
     },
     "user_tz": -540
    },
    "id": "91839e5a"
   },
   "outputs": [],
   "source": [
    "df = pd.DataFrame({'고객질의': customer, '상담원_응대': consultant})"
   ]
  },
  {
   "cell_type": "code",
   "execution_count": 28,
   "id": "18754177",
   "metadata": {
    "colab": {
     "base_uri": "https://localhost:8080/",
     "height": 285
    },
    "executionInfo": {
     "elapsed": 18,
     "status": "ok",
     "timestamp": 1655767330292,
     "user": {
      "displayName": "Gwanyong Lim",
      "userId": "01217637638293137106"
     },
     "user_tz": -540
    },
    "id": "18754177",
    "outputId": "3b0428a0-18e4-4413-df4c-8d6969280fbc"
   },
   "outputs": [
    {
     "data": {
      "text/html": [
       "<div>\n",
       "<style scoped>\n",
       "    .dataframe tbody tr th:only-of-type {\n",
       "        vertical-align: middle;\n",
       "    }\n",
       "\n",
       "    .dataframe tbody tr th {\n",
       "        vertical-align: top;\n",
       "    }\n",
       "\n",
       "    .dataframe thead th {\n",
       "        text-align: right;\n",
       "    }\n",
       "</style>\n",
       "<table border=\"1\" class=\"dataframe\">\n",
       "  <thead>\n",
       "    <tr style=\"text-align: right;\">\n",
       "      <th></th>\n",
       "      <th>고객질의</th>\n",
       "      <th>상담원_응대</th>\n",
       "    </tr>\n",
       "  </thead>\n",
       "  <tbody>\n",
       "    <tr>\n",
       "      <th>0</th>\n",
       "      <td>신용카드를 만들려고 하는데 어떻게 하면 되죠?</td>\n",
       "      <td>네. 고객님. 현재 나이가 어떻게 되시나요?</td>\n",
       "    </tr>\n",
       "    <tr>\n",
       "      <th>1</th>\n",
       "      <td>발급까지 얼마나 걸리나요?</td>\n",
       "      <td>카드발급심사 기간에 따라 달라 질 수 있는데 보통 2주 정도 소요 됩니다.</td>\n",
       "    </tr>\n",
       "    <tr>\n",
       "      <th>2</th>\n",
       "      <td>심사는 어떤걸 하나요?</td>\n",
       "      <td>현재 직업이 있으신가요?</td>\n",
       "    </tr>\n",
       "    <tr>\n",
       "      <th>3</th>\n",
       "      <td>본인 명의의 재산이 어떤거에요?</td>\n",
       "      <td>고객님 명의의 부동산 이나 다른 자산을 말합니다.</td>\n",
       "    </tr>\n",
       "    <tr>\n",
       "      <th>4</th>\n",
       "      <td>재산이 없으면 심사에서 떨어지나요?</td>\n",
       "      <td>죄송하지만, 발급이 힘드실 수도 있습니다.</td>\n",
       "    </tr>\n",
       "  </tbody>\n",
       "</table>\n",
       "</div>"
      ],
      "text/plain": [
       "                        고객질의                                      상담원_응대\n",
       "0  신용카드를 만들려고 하는데 어떻게 하면 되죠?                    네. 고객님. 현재 나이가 어떻게 되시나요?\n",
       "1             발급까지 얼마나 걸리나요?  카드발급심사 기간에 따라 달라 질 수 있는데 보통 2주 정도 소요 됩니다. \n",
       "2               심사는 어떤걸 하나요?                               현재 직업이 있으신가요?\n",
       "3          본인 명의의 재산이 어떤거에요?                고객님 명의의 부동산 이나 다른 자산을 말합니다. \n",
       "4        재산이 없으면 심사에서 떨어지나요?                    죄송하지만, 발급이 힘드실 수도 있습니다. "
      ]
     },
     "execution_count": 28,
     "metadata": {},
     "output_type": "execute_result"
    }
   ],
   "source": [
    "df.head()"
   ]
  },
  {
   "cell_type": "code",
   "execution_count": 29,
   "id": "3e22b30c",
   "metadata": {
    "colab": {
     "base_uri": "https://localhost:8080/"
    },
    "executionInfo": {
     "elapsed": 17,
     "status": "ok",
     "timestamp": 1655767330292,
     "user": {
      "displayName": "Gwanyong Lim",
      "userId": "01217637638293137106"
     },
     "user_tz": -540
    },
    "id": "3e22b30c",
    "outputId": "3cf148b3-829e-4602-e616-9ba1d876032a"
   },
   "outputs": [
    {
     "data": {
      "text/plain": [
       "고객질의      0\n",
       "상담원_응대    0\n",
       "dtype: int64"
      ]
     },
     "execution_count": 29,
     "metadata": {},
     "output_type": "execute_result"
    }
   ],
   "source": [
    "df.isna().sum()"
   ]
  },
  {
   "cell_type": "code",
   "execution_count": 30,
   "id": "ff294465",
   "metadata": {
    "executionInfo": {
     "elapsed": 13,
     "status": "ok",
     "timestamp": 1655767330292,
     "user": {
      "displayName": "Gwanyong Lim",
      "userId": "01217637638293137106"
     },
     "user_tz": -540
    },
    "id": "ff294465"
   },
   "outputs": [],
   "source": [
    "df_frac = df.sample(frac=0.3, random_state=11)"
   ]
  },
  {
   "cell_type": "code",
   "execution_count": 31,
   "id": "ebf74844",
   "metadata": {
    "colab": {
     "base_uri": "https://localhost:8080/"
    },
    "executionInfo": {
     "elapsed": 13,
     "status": "ok",
     "timestamp": 1655767330292,
     "user": {
      "displayName": "Gwanyong Lim",
      "userId": "01217637638293137106"
     },
     "user_tz": -540
    },
    "id": "ebf74844",
    "outputId": "932066ba-4047-4034-b8df-84732d3293f8"
   },
   "outputs": [
    {
     "name": "stdout",
     "output_type": "stream",
     "text": [
      "질의/응답 수: 8608\n"
     ]
    }
   ],
   "source": [
    "print('질의/응답 수:', len(df_frac))"
   ]
  },
  {
   "cell_type": "markdown",
   "id": "d0a3a3a1",
   "metadata": {
    "id": "d0a3a3a1"
   },
   "source": [
    "## 단어 집합 생성"
   ]
  },
  {
   "cell_type": "code",
   "execution_count": 33,
   "id": "2e477b34",
   "metadata": {
    "executionInfo": {
     "elapsed": 11,
     "status": "ok",
     "timestamp": 1655767330293,
     "user": {
      "displayName": "Gwanyong Lim",
      "userId": "01217637638293137106"
     },
     "user_tz": -540
    },
    "id": "2e477b34"
   },
   "outputs": [],
   "source": [
    "train_data = copy.deepcopy(df_frac)"
   ]
  },
  {
   "cell_type": "code",
   "execution_count": 34,
   "id": "056b3b9d",
   "metadata": {
    "executionInfo": {
     "elapsed": 11,
     "status": "ok",
     "timestamp": 1655767330293,
     "user": {
      "displayName": "Gwanyong Lim",
      "userId": "01217637638293137106"
     },
     "user_tz": -540
    },
    "id": "056b3b9d"
   },
   "outputs": [],
   "source": [
    "#특수기호 띄어쓰기\n",
    "questions = []\n",
    "for sentence in train_data['고객질의']:\n",
    "    sentence = re.sub(r\"([?.!,])\", r\" \\1 \", sentence)\n",
    "    sentence = sentence.strip()\n",
    "    questions.append(sentence)\n",
    "    \n",
    "answers = []\n",
    "for sentence in train_data['상담원_응대']:\n",
    "    sentence = re.sub(r\"([?.!,])\", r\" \\1 \", sentence)\n",
    "    sentence = sentence.strip()\n",
    "    answers.append(sentence)"
   ]
  },
  {
   "cell_type": "code",
   "execution_count": 35,
   "id": "5547e6ee",
   "metadata": {
    "executionInfo": {
     "elapsed": 34650,
     "status": "ok",
     "timestamp": 1655767364932,
     "user": {
      "displayName": "Gwanyong Lim",
      "userId": "01217637638293137106"
     },
     "user_tz": -540
    },
    "id": "5547e6ee"
   },
   "outputs": [],
   "source": [
    "# 서브워드텍스트인코더를 사용하여 질문, 답변 데이터로부터 단어 집합(Vocabulary) 생성\n",
    "tokenizer = tfds.deprecated.text.SubwordTextEncoder.build_from_corpus(\n",
    "    questions + answers, target_vocab_size=2**13)\n",
    "    \n",
    "# 시작 토큰과 종료 토큰에 대한 정수 부여\n",
    "START_TOKEN, END_TOKEN = [tokenizer.vocab_size], [tokenizer.vocab_size + 1]\n",
    "\n",
    "# 시작 토큰과 종료 토큰을 고려하여 단어 집합의 크기를 + 2\n",
    "VOCAB_SIZE = tokenizer.vocab_size + 2    "
   ]
  },
  {
   "cell_type": "code",
   "execution_count": 17,
   "id": "1dbb21da",
   "metadata": {
    "colab": {
     "base_uri": "https://localhost:8080/"
    },
    "executionInfo": {
     "elapsed": 19,
     "status": "ok",
     "timestamp": 1655767364933,
     "user": {
      "displayName": "Gwanyong Lim",
      "userId": "01217637638293137106"
     },
     "user_tz": -540
    },
    "id": "1dbb21da",
    "outputId": "b680edbc-45e1-4cc6-9df6-929b8a8386dd"
   },
   "outputs": [
    {
     "name": "stdout",
     "output_type": "stream",
     "text": [
      "시작 토큰 번호 : [8704]\n",
      "종료 토큰 번호 : [8705]\n",
      "단어 집합의 크기 : 8706\n"
     ]
    }
   ],
   "source": [
    "print('시작 토큰 번호 :',START_TOKEN)\n",
    "print('종료 토큰 번호 :',END_TOKEN)\n",
    "print('단어 집합의 크기 :',VOCAB_SIZE)"
   ]
  },
  {
   "cell_type": "code",
   "execution_count": 18,
   "id": "3ee45577",
   "metadata": {
    "colab": {
     "base_uri": "https://localhost:8080/"
    },
    "executionInfo": {
     "elapsed": 10,
     "status": "ok",
     "timestamp": 1655767364933,
     "user": {
      "displayName": "Gwanyong Lim",
      "userId": "01217637638293137106"
     },
     "user_tz": -540
    },
    "id": "3ee45577",
    "outputId": "234bd7d4-1a1f-4755-8317-3cdcee4723a7"
   },
   "outputs": [
    {
     "name": "stdout",
     "output_type": "stream",
     "text": [
      "보험가입시 한도초과로 나오면 어떻해야 하나요 ?\n",
      "임의의 질문 샘플을 정수 인코딩 : [937, 561, 1606, 30, 8025, 7199, 71, 29, 1]\n"
     ]
    }
   ],
   "source": [
    "# 서브워드텍스트인코더 토크나이저의 .encode()를 사용하여 텍스트 시퀀스를 정수 시퀀스로 변환.\n",
    "print(questions[20])\n",
    "print('임의의 질문 샘플을 정수 인코딩 : {}'.format(tokenizer.encode(questions[20])))"
   ]
  },
  {
   "cell_type": "code",
   "execution_count": 19,
   "id": "296ebe79",
   "metadata": {
    "colab": {
     "base_uri": "https://localhost:8080/"
    },
    "executionInfo": {
     "elapsed": 6,
     "status": "ok",
     "timestamp": 1655767364933,
     "user": {
      "displayName": "Gwanyong Lim",
      "userId": "01217637638293137106"
     },
     "user_tz": -540
    },
    "id": "296ebe79",
    "outputId": "8a706936-4b76-4ab9-c69c-6c1e94e546d6"
   },
   "outputs": [
    {
     "name": "stdout",
     "output_type": "stream",
     "text": [
      "최대 길이: 377\n"
     ]
    }
   ],
   "source": [
    "max_value = 0\n",
    "\n",
    "for q in questions:\n",
    "    max_value = max(max_value, len(q))\n",
    "    \n",
    "for a in answers:\n",
    "    max_value = max(max_value, len(a))\n",
    "print('최대 길이:', max_value)"
   ]
  },
  {
   "cell_type": "code",
   "execution_count": 20,
   "id": "1d18f9f4",
   "metadata": {
    "executionInfo": {
     "elapsed": 4,
     "status": "ok",
     "timestamp": 1655767364933,
     "user": {
      "displayName": "Gwanyong Lim",
      "userId": "01217637638293137106"
     },
     "user_tz": -540
    },
    "id": "1d18f9f4"
   },
   "outputs": [],
   "source": [
    "# 최대 길이를 380으로 정의\n",
    "MAX_LENGTH = 380\n",
    "\n",
    "# 토큰화 / 정수 인코딩 / 시작 토큰과 종료 토큰 추가 / 패딩\n",
    "def tokenize_and_filter(inputs, outputs):\n",
    "  tokenized_inputs, tokenized_outputs = [], []\n",
    "\n",
    "  for (sentence1, sentence2) in zip(inputs, outputs):\n",
    "    # encode(토큰화 + 정수 인코딩), 시작 토큰과 종료 토큰 추가\n",
    "    sentence1 = START_TOKEN + tokenizer.encode(sentence1) + END_TOKEN\n",
    "    sentence2 = START_TOKEN + tokenizer.encode(sentence2) + END_TOKEN\n",
    "\n",
    "    tokenized_inputs.append(sentence1)\n",
    "    tokenized_outputs.append(sentence2)\n",
    "\n",
    "  # 패딩\n",
    "  tokenized_inputs = tf.keras.preprocessing.sequence.pad_sequences(\n",
    "      tokenized_inputs, maxlen=MAX_LENGTH, padding='post')\n",
    "  tokenized_outputs = tf.keras.preprocessing.sequence.pad_sequences(\n",
    "      tokenized_outputs, maxlen=MAX_LENGTH, padding='post')\n",
    "\n",
    "  return tokenized_inputs, tokenized_outputs"
   ]
  },
  {
   "cell_type": "code",
   "execution_count": 21,
   "id": "216c61e4",
   "metadata": {
    "executionInfo": {
     "elapsed": 499,
     "status": "ok",
     "timestamp": 1655767365429,
     "user": {
      "displayName": "Gwanyong Lim",
      "userId": "01217637638293137106"
     },
     "user_tz": -540
    },
    "id": "216c61e4"
   },
   "outputs": [],
   "source": [
    "questions, answers = tokenize_and_filter(questions, answers)"
   ]
  },
  {
   "cell_type": "code",
   "execution_count": 22,
   "id": "339cb3b7",
   "metadata": {
    "executionInfo": {
     "elapsed": 1276,
     "status": "ok",
     "timestamp": 1655767366704,
     "user": {
      "displayName": "Gwanyong Lim",
      "userId": "01217637638293137106"
     },
     "user_tz": -540
    },
    "id": "339cb3b7"
   },
   "outputs": [],
   "source": [
    "# 인코더와 디코더의 입력 데이터가 되도록 배치 크기로 데이터를 묶어준다.\n",
    "BATCH_SIZE = 64\n",
    "BUFFER_SIZE = 20000\n",
    "\n",
    "dataset = tf.data.Dataset.from_tensor_slices((\n",
    "    {\n",
    "        'inputs': questions,\n",
    "        'dec_inputs': answers[:, :-1] # 디코더의 입력 / 마지막 패딩 토큰 제거\n",
    "    },\n",
    "    {\n",
    "        'outputs': answers[:, 1:]  # 맨 처음 토큰이 제거 = 시작 토큰 제거\n",
    "    },\n",
    "))\n",
    "\n",
    "dataset = dataset.cache()\n",
    "dataset = dataset.shuffle(BUFFER_SIZE)\n",
    "dataset = dataset.batch(BATCH_SIZE)\n",
    "dataset = dataset.prefetch(tf.data.experimental.AUTOTUNE)"
   ]
  },
  {
   "cell_type": "markdown",
   "id": "e2b094a3",
   "metadata": {
    "id": "e2b094a3"
   },
   "source": [
    "## 트랜스포머 모델"
   ]
  },
  {
   "cell_type": "code",
   "execution_count": 2,
   "id": "c9122f4c",
   "metadata": {
    "executionInfo": {
     "elapsed": 6,
     "status": "ok",
     "timestamp": 1655767366705,
     "user": {
      "displayName": "Gwanyong Lim",
      "userId": "01217637638293137106"
     },
     "user_tz": -540
    },
    "id": "c9122f4c"
   },
   "outputs": [],
   "source": [
    "def transformer(vocab_size, num_layers, dff,\n",
    "                d_model, num_heads, dropout,\n",
    "                name=\"transformer\"):\n",
    "\n",
    "  # 인코더의 입력\n",
    "  inputs = tf.keras.Input(shape=(None,), name=\"inputs\")\n",
    "\n",
    "  # 디코더의 입력\n",
    "  dec_inputs = tf.keras.Input(shape=(None,), name=\"dec_inputs\")\n",
    "\n",
    "  # 인코더의 패딩 마스크\n",
    "  enc_padding_mask = tf.keras.layers.Lambda(\n",
    "      create_padding_mask, output_shape=(1, 1, None),\n",
    "      name='enc_padding_mask')(inputs)\n",
    "\n",
    "  # 디코더의 룩어헤드 마스크(첫번째 서브층)\n",
    "  look_ahead_mask = tf.keras.layers.Lambda(\n",
    "      create_look_ahead_mask, output_shape=(1, None, None),\n",
    "      name='look_ahead_mask')(dec_inputs)\n",
    "\n",
    "  # 디코더의 패딩 마스크(두번째 서브층)\n",
    "  dec_padding_mask = tf.keras.layers.Lambda(\n",
    "      create_padding_mask, output_shape=(1, 1, None),\n",
    "      name='dec_padding_mask')(inputs)\n",
    "\n",
    "  # 인코더의 출력은 enc_outputs. 디코더로 전달된다.\n",
    "  enc_outputs = encoder(vocab_size=vocab_size, num_layers=num_layers, dff=dff,\n",
    "      d_model=d_model, num_heads=num_heads, dropout=dropout,\n",
    "  )(inputs=[inputs, enc_padding_mask]) # 인코더의 입력은 입력 문장과 패딩 마스크\n",
    "\n",
    "  # 디코더의 출력은 dec_outputs. 출력층으로 전달된다.\n",
    "  dec_outputs = decoder(vocab_size=vocab_size, num_layers=num_layers, dff=dff,\n",
    "      d_model=d_model, num_heads=num_heads, dropout=dropout,\n",
    "  )(inputs=[dec_inputs, enc_outputs, look_ahead_mask, dec_padding_mask])\n",
    "\n",
    "  # 다음 단어 예측을 위한 출력층\n",
    "  outputs = tf.keras.layers.Dense(units=vocab_size, name=\"outputs\")(dec_outputs)\n",
    "\n",
    "  return tf.keras.Model(inputs=[inputs, dec_inputs], outputs=outputs, name=name)"
   ]
  },
  {
   "cell_type": "code",
   "execution_count": 3,
   "id": "089037e8",
   "metadata": {
    "executionInfo": {
     "elapsed": 5,
     "status": "ok",
     "timestamp": 1655767366705,
     "user": {
      "displayName": "Gwanyong Lim",
      "userId": "01217637638293137106"
     },
     "user_tz": -540
    },
    "id": "089037e8"
   },
   "outputs": [],
   "source": [
    "class PositionalEncoding(tf.keras.layers.Layer):\n",
    "  def __init__(self, position, d_model):\n",
    "    super(PositionalEncoding, self).__init__()\n",
    "    self.pos_encoding = self.positional_encoding(position, d_model)\n",
    "\n",
    "  def get_angles(self, position, i, d_model):\n",
    "    angles = 1 / tf.pow(10000, (2 * (i // 2)) / tf.cast(d_model, tf.float32))\n",
    "    return position * angles\n",
    "\n",
    "  def positional_encoding(self, position, d_model):\n",
    "    angle_rads = self.get_angles(\n",
    "        position=tf.range(position, dtype=tf.float32)[:, tf.newaxis],\n",
    "        i=tf.range(d_model, dtype=tf.float32)[tf.newaxis, :],\n",
    "        d_model=d_model)\n",
    "\n",
    "    # 배열의 짝수 인덱스(2i)에는 사인 함수 적용\n",
    "    sines = tf.math.sin(angle_rads[:, 0::2])\n",
    "\n",
    "    # 배열의 홀수 인덱스(2i+1)에는 코사인 함수 적용\n",
    "    cosines = tf.math.cos(angle_rads[:, 1::2])\n",
    "\n",
    "    angle_rads = np.zeros(angle_rads.shape)\n",
    "    angle_rads[:, 0::2] = sines\n",
    "    angle_rads[:, 1::2] = cosines\n",
    "    pos_encoding = tf.constant(angle_rads)\n",
    "    pos_encoding = pos_encoding[tf.newaxis, ...]\n",
    "\n",
    "    #print(pos_encoding.shape)\n",
    "    return tf.cast(pos_encoding, tf.float32)\n",
    "\n",
    "  def call(self, inputs):\n",
    "    return inputs + self.pos_encoding[:, :tf.shape(inputs)[1], :]"
   ]
  },
  {
   "cell_type": "code",
   "execution_count": 4,
   "id": "82ff32a8",
   "metadata": {
    "executionInfo": {
     "elapsed": 5,
     "status": "ok",
     "timestamp": 1655767366705,
     "user": {
      "displayName": "Gwanyong Lim",
      "userId": "01217637638293137106"
     },
     "user_tz": -540
    },
    "id": "82ff32a8"
   },
   "outputs": [],
   "source": [
    "def create_padding_mask(x):\n",
    "  mask = tf.cast(tf.math.equal(x, 0), tf.float32)\n",
    "  # (batch_size, 1, 1, key의 문장 길이)\n",
    "  return mask[:, tf.newaxis, tf.newaxis, :]\n",
    "\n",
    "# 디코더의 첫번째 서브층(sublayer)에서 미래 토큰을 Mask하는 함수\n",
    "def create_look_ahead_mask(x):\n",
    "  seq_len = tf.shape(x)[1]\n",
    "  look_ahead_mask = 1 - tf.linalg.band_part(tf.ones((seq_len, seq_len)), -1, 0)\n",
    "  padding_mask = create_padding_mask(x) # 패딩 마스크도 포함\n",
    "  return tf.maximum(look_ahead_mask, padding_mask)\n",
    "\n",
    "#encoder\n",
    "def encoder(vocab_size, num_layers, dff,\n",
    "            d_model, num_heads, dropout,\n",
    "            name=\"encoder\"):\n",
    "  inputs = tf.keras.Input(shape=(None,), name=\"inputs\")\n",
    "\n",
    "  # 인코더는 패딩 마스크 사용\n",
    "  padding_mask = tf.keras.Input(shape=(1, 1, None), name=\"padding_mask\")\n",
    "\n",
    "  # 포지셔널 인코딩 + 드롭아웃\n",
    "  embeddings = tf.keras.layers.Embedding(vocab_size, d_model)(inputs)\n",
    "  embeddings *= tf.math.sqrt(tf.cast(d_model, tf.float32))\n",
    "  embeddings = PositionalEncoding(vocab_size, d_model)(embeddings)\n",
    "  outputs = tf.keras.layers.Dropout(rate=dropout)(embeddings)\n",
    "\n",
    "  # 인코더를 num_layers개 쌓기\n",
    "  for i in range(num_layers):\n",
    "    outputs = encoder_layer(dff=dff, d_model=d_model, num_heads=num_heads,\n",
    "        dropout=dropout, name=\"encoder_layer_{}\".format(i),\n",
    "    )([outputs, padding_mask])\n",
    "\n",
    "  return tf.keras.Model(\n",
    "      inputs=[inputs, padding_mask], outputs=outputs, name=name)"
   ]
  },
  {
   "cell_type": "code",
   "execution_count": 5,
   "id": "e14920f1",
   "metadata": {
    "executionInfo": {
     "elapsed": 5,
     "status": "ok",
     "timestamp": 1655767366706,
     "user": {
      "displayName": "Gwanyong Lim",
      "userId": "01217637638293137106"
     },
     "user_tz": -540
    },
    "id": "e14920f1"
   },
   "outputs": [],
   "source": [
    "def encoder_layer(dff, d_model, num_heads, dropout, name=\"encoder_layer\"):\n",
    "  inputs = tf.keras.Input(shape=(None, d_model), name=\"inputs\")\n",
    "\n",
    "  # 인코더는 패딩 마스크 사용\n",
    "  padding_mask = tf.keras.Input(shape=(1, 1, None), name=\"padding_mask\")\n",
    "\n",
    "  # 멀티-헤드 어텐션 (첫번째 서브층 / 셀프 어텐션)\n",
    "  attention = MultiHeadAttention(\n",
    "      d_model, num_heads, name=\"attention\")({\n",
    "          'query': inputs, 'key': inputs, 'value': inputs, # Q = K = V\n",
    "          'mask': padding_mask # 패딩 마스크 사용\n",
    "      })\n",
    "\n",
    "  # 드롭아웃 + 잔차 연결과 층 정규화\n",
    "  attention = tf.keras.layers.Dropout(rate=dropout)(attention)\n",
    "  attention = tf.keras.layers.LayerNormalization(\n",
    "      epsilon=1e-6)(inputs + attention)\n",
    "\n",
    "  # 포지션 와이즈 피드 포워드 신경망 (두번째 서브층)\n",
    "  outputs = tf.keras.layers.Dense(units=dff, activation='relu')(attention)\n",
    "  outputs = tf.keras.layers.Dense(units=d_model)(outputs)\n",
    "\n",
    "  # 드롭아웃 + 잔차 연결과 층 정규화\n",
    "  outputs = tf.keras.layers.Dropout(rate=dropout)(outputs)\n",
    "  outputs = tf.keras.layers.LayerNormalization(\n",
    "      epsilon=1e-6)(attention + outputs)\n",
    "\n",
    "  return tf.keras.Model(\n",
    "      inputs=[inputs, padding_mask], outputs=outputs, name=name)"
   ]
  },
  {
   "cell_type": "code",
   "execution_count": 6,
   "id": "4a1c7cff",
   "metadata": {
    "executionInfo": {
     "elapsed": 5,
     "status": "ok",
     "timestamp": 1655767366706,
     "user": {
      "displayName": "Gwanyong Lim",
      "userId": "01217637638293137106"
     },
     "user_tz": -540
    },
    "id": "4a1c7cff"
   },
   "outputs": [],
   "source": [
    "class MultiHeadAttention(tf.keras.layers.Layer):\n",
    "\n",
    "  def __init__(self, d_model, num_heads, name=\"multi_head_attention\"):\n",
    "    super(MultiHeadAttention, self).__init__(name=name)\n",
    "    self.num_heads = num_heads\n",
    "    self.d_model = d_model\n",
    "\n",
    "    assert d_model % self.num_heads == 0\n",
    "\n",
    "    # d_model을 num_heads로 나눈 값.\n",
    "    # 논문 기준 : 64\n",
    "    self.depth = d_model // self.num_heads\n",
    "\n",
    "    # WQ, WK, WV에 해당하는 밀집층 정의\n",
    "    self.query_dense = tf.keras.layers.Dense(units=d_model)\n",
    "    self.key_dense = tf.keras.layers.Dense(units=d_model)\n",
    "    self.value_dense = tf.keras.layers.Dense(units=d_model)\n",
    "\n",
    "    # WO에 해당하는 밀집층 정의\n",
    "    self.dense = tf.keras.layers.Dense(units=d_model)\n",
    "\n",
    "  # num_heads 개수만큼 q, k, v를 split하는 함수\n",
    "  def split_heads(self, inputs, batch_size):\n",
    "    inputs = tf.reshape(\n",
    "        inputs, shape=(batch_size, -1, self.num_heads, self.depth))\n",
    "    return tf.transpose(inputs, perm=[0, 2, 1, 3])\n",
    "\n",
    "  def call(self, inputs):\n",
    "    query, key, value, mask = inputs['query'], inputs['key'], inputs[\n",
    "        'value'], inputs['mask']\n",
    "    batch_size = tf.shape(query)[0]\n",
    "\n",
    "    query = self.query_dense(query)\n",
    "    key = self.key_dense(key)\n",
    "    value = self.value_dense(value)\n",
    "\n",
    "    # 2. 헤드 나누기\n",
    "    # q : (batch_size, num_heads, query의 문장 길이, d_model/num_heads)\n",
    "    # k : (batch_size, num_heads, key의 문장 길이, d_model/num_heads)\n",
    "    # v : (batch_size, num_heads, value의 문장 길이, d_model/num_heads)\n",
    "    query = self.split_heads(query, batch_size)\n",
    "    key = self.split_heads(key, batch_size)\n",
    "    value = self.split_heads(value, batch_size)\n",
    "\n",
    "    # 3. 스케일드 닷 프로덕트 어텐션. 앞서 구현한 함수 사용.\n",
    "    # (batch_size, num_heads, query의 문장 길이, d_model/num_heads)\n",
    "    scaled_attention, _ = scaled_dot_product_attention(query, key, value, mask)\n",
    "    # (batch_size, query의 문장 길이, num_heads, d_model/num_heads)\n",
    "    scaled_attention = tf.transpose(scaled_attention, perm=[0, 2, 1, 3])\n",
    "\n",
    "    # 4. 헤드 연결(concatenate)하기\n",
    "    # (batch_size, query의 문장 길이, d_model)\n",
    "    concat_attention = tf.reshape(scaled_attention,\n",
    "                                  (batch_size, -1, self.d_model))\n",
    "\n",
    "    # 5. WO에 해당하는 밀집층 지나기\n",
    "    # (batch_size, query의 문장 길이, d_model)\n",
    "    outputs = self.dense(concat_attention)\n",
    "\n",
    "    return outputs"
   ]
  },
  {
   "cell_type": "code",
   "execution_count": 7,
   "id": "cf0b1b58",
   "metadata": {
    "executionInfo": {
     "elapsed": 5,
     "status": "ok",
     "timestamp": 1655767366706,
     "user": {
      "displayName": "Gwanyong Lim",
      "userId": "01217637638293137106"
     },
     "user_tz": -540
    },
    "id": "cf0b1b58"
   },
   "outputs": [],
   "source": [
    "def scaled_dot_product_attention(query, key, value, mask):\n",
    "  # query 크기 : (batch_size, num_heads, query의 문장 길이, d_model/num_heads)\n",
    "  # key 크기 : (batch_size, num_heads, key의 문장 길이, d_model/num_heads)\n",
    "  # value 크기 : (batch_size, num_heads, value의 문장 길이, d_model/num_heads)\n",
    "  # padding_mask : (batch_size, 1, 1, key의 문장 길이)\n",
    "\n",
    "  # Q와 K의 곱. 어텐션 스코어 행렬.\n",
    "  matmul_qk = tf.matmul(query, key, transpose_b=True)\n",
    "\n",
    "  # 스케일링\n",
    "  # dk의 루트값으로 나눠준다.\n",
    "  depth = tf.cast(tf.shape(key)[-1], tf.float32)\n",
    "  logits = matmul_qk / tf.math.sqrt(depth)\n",
    "\n",
    "  # 마스킹. 어텐션 스코어 행렬의 마스킹 할 위치에 매우 작은 음수값을 넣는다.\n",
    "  # 매우 작은 값이므로 소프트맥스 함수를 지나면 행렬의 해당 위치의 값은 0이 된다.\n",
    "  if mask is not None:\n",
    "    logits += (mask * -1e9)\n",
    "\n",
    "  # 소프트맥스 함수는 마지막 차원인 key의 문장 길이 방향으로 수행된다.\n",
    "  # attention weight : (batch_size, num_heads, query의 문장 길이, key의 문장 길이)\n",
    "  attention_weights = tf.nn.softmax(logits, axis=-1)\n",
    "\n",
    "  # output : (batch_size, num_heads, query의 문장 길이, d_model/num_heads)\n",
    "  output = tf.matmul(attention_weights, value)\n",
    "\n",
    "  return output, attention_weights"
   ]
  },
  {
   "cell_type": "code",
   "execution_count": 8,
   "id": "16a0eb9c",
   "metadata": {
    "executionInfo": {
     "elapsed": 5,
     "status": "ok",
     "timestamp": 1655767366706,
     "user": {
      "displayName": "Gwanyong Lim",
      "userId": "01217637638293137106"
     },
     "user_tz": -540
    },
    "id": "16a0eb9c"
   },
   "outputs": [],
   "source": [
    "def decoder(vocab_size, num_layers, dff,\n",
    "            d_model, num_heads, dropout,\n",
    "            name='decoder'):\n",
    "  inputs = tf.keras.Input(shape=(None,), name='inputs')\n",
    "  enc_outputs = tf.keras.Input(shape=(None, d_model), name='encoder_outputs')\n",
    "\n",
    "  # 디코더는 룩어헤드 마스크(첫번째 서브층)와 패딩 마스크(두번째 서브층) 둘 다 사용.\n",
    "  look_ahead_mask = tf.keras.Input(\n",
    "      shape=(1, None, None), name='look_ahead_mask')\n",
    "  padding_mask = tf.keras.Input(shape=(1, 1, None), name='padding_mask')\n",
    "\n",
    "  # 포지셔널 인코딩 + 드롭아웃\n",
    "  embeddings = tf.keras.layers.Embedding(vocab_size, d_model)(inputs)\n",
    "  embeddings *= tf.math.sqrt(tf.cast(d_model, tf.float32))\n",
    "  embeddings = PositionalEncoding(vocab_size, d_model)(embeddings)\n",
    "  outputs = tf.keras.layers.Dropout(rate=dropout)(embeddings)\n",
    "\n",
    "  # 디코더를 num_layers개 쌓기\n",
    "  for i in range(num_layers):\n",
    "    outputs = decoder_layer(dff=dff, d_model=d_model, num_heads=num_heads,\n",
    "        dropout=dropout, name='decoder_layer_{}'.format(i),\n",
    "    )(inputs=[outputs, enc_outputs, look_ahead_mask, padding_mask])\n",
    "\n",
    "  return tf.keras.Model(\n",
    "      inputs=[inputs, enc_outputs, look_ahead_mask, padding_mask],\n",
    "      outputs=outputs,\n",
    "      name=name)"
   ]
  },
  {
   "cell_type": "code",
   "execution_count": 9,
   "id": "5c13311c",
   "metadata": {
    "executionInfo": {
     "elapsed": 5,
     "status": "ok",
     "timestamp": 1655767366707,
     "user": {
      "displayName": "Gwanyong Lim",
      "userId": "01217637638293137106"
     },
     "user_tz": -540
    },
    "id": "5c13311c"
   },
   "outputs": [],
   "source": [
    "def decoder_layer(dff, d_model, num_heads, dropout, name=\"decoder_layer\"):\n",
    "  inputs = tf.keras.Input(shape=(None, d_model), name=\"inputs\")\n",
    "  enc_outputs = tf.keras.Input(shape=(None, d_model), name=\"encoder_outputs\")\n",
    "\n",
    "  # 룩어헤드 마스크(첫번째 서브층)\n",
    "  look_ahead_mask = tf.keras.Input(\n",
    "      shape=(1, None, None), name=\"look_ahead_mask\")\n",
    "\n",
    "  # 패딩 마스크(두번째 서브층)\n",
    "  padding_mask = tf.keras.Input(shape=(1, 1, None), name='padding_mask')\n",
    "\n",
    "  # 멀티-헤드 어텐션 (첫번째 서브층 / 마스크드 셀프 어텐션)\n",
    "  attention1 = MultiHeadAttention(\n",
    "      d_model, num_heads, name=\"attention_1\")(inputs={\n",
    "          'query': inputs, 'key': inputs, 'value': inputs, # Q = K = V\n",
    "          'mask': look_ahead_mask # 룩어헤드 마스크\n",
    "      })\n",
    "\n",
    "  # 잔차 연결과 층 정규화\n",
    "  attention1 = tf.keras.layers.LayerNormalization(\n",
    "      epsilon=1e-6)(attention1 + inputs)\n",
    "\n",
    "  # 멀티-헤드 어텐션 (두번째 서브층 / 디코더-인코더 어텐션)\n",
    "  attention2 = MultiHeadAttention(\n",
    "      d_model, num_heads, name=\"attention_2\")(inputs={\n",
    "          'query': attention1, 'key': enc_outputs, 'value': enc_outputs, # Q != K = V\n",
    "          'mask': padding_mask # 패딩 마스크\n",
    "      })\n",
    "\n",
    "  # 드롭아웃 + 잔차 연결과 층 정규화\n",
    "  attention2 = tf.keras.layers.Dropout(rate=dropout)(attention2)\n",
    "  attention2 = tf.keras.layers.LayerNormalization(\n",
    "      epsilon=1e-6)(attention2 + attention1)\n",
    "\n",
    "  # 포지션 와이즈 피드 포워드 신경망 (세번째 서브층)\n",
    "  outputs = tf.keras.layers.Dense(units=dff, activation='relu')(attention2)\n",
    "  outputs = tf.keras.layers.Dense(units=d_model)(outputs)\n",
    "\n",
    "  # 드롭아웃 + 잔차 연결과 층 정규화\n",
    "  outputs = tf.keras.layers.Dropout(rate=dropout)(outputs)\n",
    "  outputs = tf.keras.layers.LayerNormalization(\n",
    "      epsilon=1e-6)(outputs + attention2)\n",
    "\n",
    "  return tf.keras.Model(\n",
    "      inputs=[inputs, enc_outputs, look_ahead_mask, padding_mask],\n",
    "      outputs=outputs,\n",
    "      name=name)"
   ]
  },
  {
   "cell_type": "code",
   "execution_count": 31,
   "id": "b4b8d6ae",
   "metadata": {
    "executionInfo": {
     "elapsed": 4617,
     "status": "ok",
     "timestamp": 1655767371319,
     "user": {
      "displayName": "Gwanyong Lim",
      "userId": "01217637638293137106"
     },
     "user_tz": -540
    },
    "id": "b4b8d6ae"
   },
   "outputs": [],
   "source": [
    "tf.keras.backend.clear_session()\n",
    "\n",
    "# Hyper-parameters\n",
    "D_MODEL = 256\n",
    "NUM_LAYERS = 4\n",
    "NUM_HEADS = 8\n",
    "DFF = 512\n",
    "DROPOUT = 0.1\n",
    "\n",
    "model = transformer(\n",
    "    vocab_size=VOCAB_SIZE,\n",
    "    num_layers=NUM_LAYERS,\n",
    "    dff=DFF,\n",
    "    d_model=D_MODEL,\n",
    "    num_heads=NUM_HEADS,\n",
    "    dropout=DROPOUT)"
   ]
  },
  {
   "cell_type": "code",
   "execution_count": 32,
   "id": "102f10da",
   "metadata": {
    "colab": {
     "base_uri": "https://localhost:8080/",
     "height": 225
    },
    "executionInfo": {
     "elapsed": 16,
     "status": "ok",
     "timestamp": 1655767371320,
     "user": {
      "displayName": "Gwanyong Lim",
      "userId": "01217637638293137106"
     },
     "user_tz": -540
    },
    "id": "102f10da",
    "outputId": "2014c043-da0a-4000-b908-fe55f3e6097d"
   },
   "outputs": [
    {
     "data": {
      "image/png": "[encoded data removed]",
      "text/plain": [
       "<IPython.core.display.Image object>"
      ]
     },
     "execution_count": 32,
     "metadata": {},
     "output_type": "execute_result"
    }
   ],
   "source": [
    "tf.keras.utils.plot_model(model, to_file='transformer.png', show_shapes=True)"
   ]
  },
  {
   "cell_type": "code",
   "execution_count": 12,
   "id": "5af28095",
   "metadata": {
    "executionInfo": {
     "elapsed": 13,
     "status": "ok",
     "timestamp": 1655767371320,
     "user": {
      "displayName": "Gwanyong Lim",
      "userId": "01217637638293137106"
     },
     "user_tz": -540
    },
    "id": "5af28095"
   },
   "outputs": [],
   "source": [
    "class CustomSchedule(tf.keras.optimizers.schedules.LearningRateSchedule):\n",
    "\n",
    "  def __init__(self, d_model, warmup_steps=4000):\n",
    "    super(CustomSchedule, self).__init__()\n",
    "    self.d_model = d_model\n",
    "    self.d_model = tf.cast(self.d_model, tf.float32)\n",
    "    self.warmup_steps = warmup_steps\n",
    "\n",
    "  def __call__(self, step):\n",
    "    arg1 = tf.math.rsqrt(step)\n",
    "    arg2 = step * (self.warmup_steps**-1.5)\n",
    "\n",
    "    return tf.math.rsqrt(self.d_model) * tf.math.minimum(arg1, arg2)\n",
    "\n",
    "def loss_function(y_true, y_pred):\n",
    "  y_true = tf.reshape(y_true, shape=(-1, MAX_LENGTH - 1))\n",
    "\n",
    "  loss = tf.keras.losses.SparseCategoricalCrossentropy(\n",
    "      from_logits=True, reduction='none')(y_true, y_pred)\n",
    "\n",
    "  mask = tf.cast(tf.not_equal(y_true, 0), tf.float32)\n",
    "  loss = tf.multiply(loss, mask)\n",
    "\n",
    "  return tf.reduce_mean(loss)"
   ]
  },
  {
   "cell_type": "code",
   "execution_count": 13,
   "id": "c8a28a14",
   "metadata": {},
   "outputs": [],
   "source": [
    "def accuracy(y_true, y_pred):\n",
    "  # 레이블의 크기는 (batch_size, MAX_LENGTH - 1)\n",
    "  y_true = tf.reshape(y_true, shape=(-1, MAX_LENGTH - 1))\n",
    "  return tf.keras.metrics.sparse_categorical_accuracy(y_true, y_pred)"
   ]
  },
  {
   "cell_type": "code",
   "execution_count": 34,
   "id": "4e183964",
   "metadata": {
    "executionInfo": {
     "elapsed": 12,
     "status": "ok",
     "timestamp": 1655767371320,
     "user": {
      "displayName": "Gwanyong Lim",
      "userId": "01217637638293137106"
     },
     "user_tz": -540
    },
    "id": "4e183964"
   },
   "outputs": [],
   "source": [
    "learning_rate = CustomSchedule(D_MODEL)\n",
    "\n",
    "optimizer = tf.keras.optimizers.Adam(\n",
    "    learning_rate, beta_1=0.9, beta_2=0.98, epsilon=1e-9)\n",
    "\n",
    "model.compile(optimizer=optimizer, loss=loss_function, metrics=[accuracy])"
   ]
  },
  {
   "cell_type": "code",
   "execution_count": 35,
   "id": "5ea8b9e0",
   "metadata": {
    "colab": {
     "base_uri": "https://localhost:8080/"
    },
    "executionInfo": {
     "elapsed": 6830645,
     "status": "ok",
     "timestamp": 1655774201953,
     "user": {
      "displayName": "Gwanyong Lim",
      "userId": "01217637638293137106"
     },
     "user_tz": -540
    },
    "id": "5ea8b9e0",
    "outputId": "98339ccf-ba07-453f-9955-160c391a82e9"
   },
   "outputs": [
    {
     "name": "stdout",
     "output_type": "stream",
     "text": [
      "Epoch 1/40\n",
      "135/135 [==============================] - 155s 1s/step - loss: 0.2524 - accuracy: 0.0018\n",
      "Epoch 2/40\n",
      "135/135 [==============================] - 142s 1s/step - loss: 0.2297 - accuracy: 0.0028\n",
      "Epoch 3/40\n",
      "135/135 [==============================] - 142s 1s/step - loss: 0.2037 - accuracy: 0.0041\n",
      "Epoch 4/40\n",
      "135/135 [==============================] - 142s 1s/step - loss: 0.1897 - accuracy: 0.0049\n",
      "Epoch 5/40\n",
      "135/135 [==============================] - 142s 1s/step - loss: 0.1800 - accuracy: 0.0057\n",
      "Epoch 6/40\n",
      "135/135 [==============================] - 142s 1s/step - loss: 0.1721 - accuracy: 0.0063\n",
      "Epoch 7/40\n",
      "135/135 [==============================] - 142s 1s/step - loss: 0.1646 - accuracy: 0.0069\n",
      "Epoch 8/40\n",
      "135/135 [==============================] - 142s 1s/step - loss: 0.1571 - accuracy: 0.0074\n",
      "Epoch 9/40\n",
      "135/135 [==============================] - 143s 1s/step - loss: 0.1493 - accuracy: 0.0080\n",
      "Epoch 10/40\n",
      "135/135 [==============================] - 143s 1s/step - loss: 0.1413 - accuracy: 0.0086\n",
      "Epoch 11/40\n",
      "135/135 [==============================] - 143s 1s/step - loss: 0.1329 - accuracy: 0.0093\n",
      "Epoch 12/40\n",
      "135/135 [==============================] - 143s 1s/step - loss: 0.1240 - accuracy: 0.0100\n",
      "Epoch 13/40\n",
      "135/135 [==============================] - 143s 1s/step - loss: 0.1147 - accuracy: 0.0109\n",
      "Epoch 14/40\n",
      "135/135 [==============================] - 143s 1s/step - loss: 0.1050 - accuracy: 0.0119\n",
      "Epoch 15/40\n",
      "135/135 [==============================] - 143s 1s/step - loss: 0.0951 - accuracy: 0.0131\n",
      "Epoch 16/40\n",
      "135/135 [==============================] - 143s 1s/step - loss: 0.0849 - accuracy: 0.0143\n",
      "Epoch 17/40\n",
      "135/135 [==============================] - 142s 1s/step - loss: 0.0750 - accuracy: 0.0156\n",
      "Epoch 18/40\n",
      "135/135 [==============================] - 143s 1s/step - loss: 0.0651 - accuracy: 0.0170\n",
      "Epoch 19/40\n",
      "135/135 [==============================] - 142s 1s/step - loss: 0.0554 - accuracy: 0.0185\n",
      "Epoch 20/40\n",
      "135/135 [==============================] - 143s 1s/step - loss: 0.0465 - accuracy: 0.0200\n",
      "Epoch 21/40\n",
      "135/135 [==============================] - 143s 1s/step - loss: 0.0386 - accuracy: 0.0214\n",
      "Epoch 22/40\n",
      "135/135 [==============================] - 143s 1s/step - loss: 0.0315 - accuracy: 0.0226\n",
      "Epoch 23/40\n",
      "135/135 [==============================] - 142s 1s/step - loss: 0.0260 - accuracy: 0.0235\n",
      "Epoch 24/40\n",
      "135/135 [==============================] - 143s 1s/step - loss: 0.0220 - accuracy: 0.0241\n",
      "Epoch 25/40\n",
      "135/135 [==============================] - 142s 1s/step - loss: 0.0190 - accuracy: 0.0245\n",
      "Epoch 26/40\n",
      "135/135 [==============================] - 140s 1s/step - loss: 0.0169 - accuracy: 0.0249\n",
      "Epoch 27/40\n",
      "135/135 [==============================] - 141s 1s/step - loss: 0.0150 - accuracy: 0.0252\n",
      "Epoch 28/40\n",
      "135/135 [==============================] - 142s 1s/step - loss: 0.0142 - accuracy: 0.0253\n",
      "Epoch 29/40\n",
      "135/135 [==============================] - 141s 1s/step - loss: 0.0131 - accuracy: 0.0255\n",
      "Epoch 30/40\n",
      "135/135 [==============================] - 142s 1s/step - loss: 0.0125 - accuracy: 0.0256\n",
      "Epoch 31/40\n",
      "135/135 [==============================] - 142s 1s/step - loss: 0.0118 - accuracy: 0.0258\n",
      "Epoch 32/40\n",
      "135/135 [==============================] - 141s 1s/step - loss: 0.0104 - accuracy: 0.0261\n",
      "Epoch 33/40\n",
      "135/135 [==============================] - 142s 1s/step - loss: 0.0093 - accuracy: 0.0264\n",
      "Epoch 34/40\n",
      "135/135 [==============================] - 142s 1s/step - loss: 0.0085 - accuracy: 0.0266\n",
      "Epoch 35/40\n",
      "135/135 [==============================] - 143s 1s/step - loss: 0.0079 - accuracy: 0.0267\n",
      "Epoch 36/40\n",
      "135/135 [==============================] - 139s 1s/step - loss: 0.0072 - accuracy: 0.0269\n",
      "Epoch 37/40\n",
      "135/135 [==============================] - 141s 1s/step - loss: 0.0069 - accuracy: 0.0270\n",
      "Epoch 38/40\n",
      "135/135 [==============================] - 141s 1s/step - loss: 0.0064 - accuracy: 0.0271\n",
      "Epoch 39/40\n",
      "135/135 [==============================] - 142s 1s/step - loss: 0.0059 - accuracy: 0.0273\n",
      "Epoch 40/40\n",
      "135/135 [==============================] - 142s 1s/step - loss: 0.0055 - accuracy: 0.0274\n"
     ]
    },
    {
     "data": {
      "text/plain": [
       "<keras.callbacks.History at 0x7fa17207e850>"
      ]
     },
     "execution_count": 35,
     "metadata": {},
     "output_type": "execute_result"
    }
   ],
   "source": [
    "EPOCHS = 40\n",
    "model.fit(dataset, epochs=EPOCHS)"
   ]
  },
  {
   "cell_type": "code",
   "execution_count": 36,
   "id": "IpctsIcmQLrT",
   "metadata": {
    "executionInfo": {
     "elapsed": 520,
     "status": "ok",
     "timestamp": 1655774202464,
     "user": {
      "displayName": "Gwanyong Lim",
      "userId": "01217637638293137106"
     },
     "user_tz": -540
    },
    "id": "IpctsIcmQLrT"
   },
   "outputs": [],
   "source": [
    "model.save_weights(\"/content/drive/MyDrive/Colab Notebooks/chat_weights\")"
   ]
  },
  {
   "cell_type": "markdown",
   "id": "c3945132",
   "metadata": {},
   "source": [
    "## 챗봇 쳥가하기"
   ]
  },
  {
   "cell_type": "code",
   "execution_count": 11,
   "id": "ae70d1c5",
   "metadata": {},
   "outputs": [],
   "source": [
    "# Hyper-parameters\n",
    "D_MODEL = 256\n",
    "NUM_LAYERS = 4\n",
    "NUM_HEADS = 8\n",
    "DFF = 512\n",
    "DROPOUT = 0.1\n",
    "VOCAB_SIZE=8706\n",
    "\n",
    "START_TOKEN = 8704\n",
    "END_TOKEN = 8705\n",
    "MAX_LENGTH = 380\n",
    "\n",
    "loaded_model = transformer(\n",
    "    vocab_size=VOCAB_SIZE,\n",
    "    num_layers=NUM_LAYERS,\n",
    "    dff=DFF,\n",
    "    d_model=D_MODEL,\n",
    "    num_heads=NUM_HEADS,\n",
    "    dropout=DROPOUT)"
   ]
  },
  {
   "cell_type": "code",
   "execution_count": 14,
   "id": "135bf836",
   "metadata": {},
   "outputs": [],
   "source": [
    "learning_rate = CustomSchedule(D_MODEL)\n",
    "\n",
    "optimizer = tf.keras.optimizers.Adam(\n",
    "    learning_rate, beta_1=0.9, beta_2=0.98, epsilon=1e-9)\n",
    "\n",
    "loaded_model.compile(optimizer=optimizer, loss=loss_function, metrics=[accuracy])"
   ]
  },
  {
   "cell_type": "code",
   "execution_count": 16,
   "id": "e8a0df1b",
   "metadata": {},
   "outputs": [
    {
     "data": {
      "text/plain": [
       "<tensorflow.python.training.tracking.util.CheckpointLoadStatus at 0x29025799860>"
      ]
     },
     "execution_count": 16,
     "metadata": {},
     "output_type": "execute_result"
    }
   ],
   "source": [
    "loaded_model.load_weights('chat_weights')"
   ]
  },
  {
   "cell_type": "code",
   "execution_count": 18,
   "id": "c2e59068",
   "metadata": {},
   "outputs": [],
   "source": [
    "def evaluate(sentence):\n",
    "  sentence = preprocess_sentence(sentence)\n",
    "\n",
    "  sentence = tf.expand_dims(\n",
    "      START_TOKEN + tokenizer.encode(sentence) + END_TOKEN, axis=0)\n",
    "\n",
    "  output = tf.expand_dims(START_TOKEN, 0)\n",
    "\n",
    "  # 디코더의 예측 시작\n",
    "  for i in range(MAX_LENGTH):\n",
    "    predictions = loaded_model(inputs=[sentence, output], training=False)\n",
    "\n",
    "    # 현재(마지막) 시점의 예측 단어를 받아온다.\n",
    "    predictions = predictions[:, -1:, :]\n",
    "    predicted_id = tf.cast(tf.argmax(predictions, axis=-1), tf.int32)\n",
    "\n",
    "    # 만약 마지막 시점의 예측 단어가 종료 토큰이라면 예측을 중단\n",
    "    if tf.equal(predicted_id, END_TOKEN[0]):\n",
    "      break\n",
    "\n",
    "    # 마지막 시점의 예측 단어를 출력에 연결한다.\n",
    "    # 이는 for문을 통해서 디코더의 입력으로 사용될 예정이다.\n",
    "    output = tf.concat([output, predicted_id], axis=-1)\n",
    "\n",
    "  return tf.squeeze(output, axis=0)\n",
    "\n",
    "def predict(sentence):\n",
    "  prediction = evaluate(sentence)\n",
    "\n",
    "  predicted_sentence = tokenizer.decode(\n",
    "      [i for i in prediction if i < tokenizer.vocab_size])\n",
    "\n",
    "  print('Input: {}'.format(sentence))\n",
    "  print('Output: {}'.format(predicted_sentence))\n",
    "\n",
    "  return predicted_sentence\n",
    "  \n",
    "  \n",
    "def preprocess_sentence(sentence):\n",
    "  sentence = re.sub(r\"([?.!,])\", r\" \\1 \", sentence)\n",
    "  sentence = sentence.strip()\n",
    "  return sentence"
   ]
  },
  {
   "cell_type": "code",
   "execution_count": 57,
   "id": "d9f93e2d",
   "metadata": {},
   "outputs": [
    {
     "name": "stdout",
     "output_type": "stream",
     "text": [
      "Input: 재산이 없으면 심사에서 떨어지나요?\n",
      "Output: 죄송하지만 ,  발급이 힘드실 수도 있습니다 .\n"
     ]
    }
   ],
   "source": [
    "output = predict(\"재산이 없으면 심사에서 떨어지나요?\")"
   ]
  },
  {
   "cell_type": "code",
   "execution_count": 59,
   "id": "e02a5c01",
   "metadata": {},
   "outputs": [
    {
     "name": "stdout",
     "output_type": "stream",
     "text": [
      "Input: \t대리인이 가면 더 필요한 서류가 있나요?\n",
      "Output: 대리인 방문시엔 통장 ,  거래인감 ,  본인의 인감증명서와 위임장을 지참하시면 가능합니다 .\n"
     ]
    }
   ],
   "source": [
    "output = predict(\"\t대리인이 가면 더 필요한 서류가 있나요?\")"
   ]
  },
  {
   "cell_type": "code",
   "execution_count": null,
   "id": "2e01328b",
   "metadata": {},
   "outputs": [],
   "source": [
    "output = predict(\"\t대리인이 가면 더 필요한 서류가 있나요?\")"
   ]
  },
  {
   "cell_type": "code",
   "execution_count": 66,
   "id": "dd7030b3",
   "metadata": {},
   "outputs": [],
   "source": [
    "test = df.loc[set(df.index) - set(train_data.index)].sample(10)"
   ]
  },
  {
   "cell_type": "code",
   "execution_count": 67,
   "id": "4babdf1e",
   "metadata": {},
   "outputs": [
    {
     "name": "stdout",
     "output_type": "stream",
     "text": [
      "Input: 법규 위반 할증은 개인계약에만 적용되나요?\n",
      "Output: 개인또는 법인입니다\n",
      "실제 응답: 기명 피보험자의 기록만을 반영합니다\n",
      "\n",
      "\n",
      "Input: 어떤게 있나요?\n",
      "Output: 저희 은행 인터넷뱅킹을 이용하시면됩니다\n",
      "실제 응답: 거래내역 SMS 신청, 해외출금금지 등이 있습니다\n",
      "\n",
      "\n",
      "Input: 은행 지점은 아무 은행이나 가도 되나요?\n",
      "Output: 네 근처 주민센터 때 36~1000원이 부과됩니다 .\n",
      "실제 응답: 네 근처 가까운 은행으로 이용하시면 됩니다.\n",
      "\n",
      "\n",
      "Input: 어떤 경우에 보상을 못받나요?\n",
      "Output: 네 .  실명확인증표 ,  미성년자 명의 기본증명서 ,  도장이 필요합니다 .\n",
      "실제 응답: 여행자보험에는 보상하지 않는 손해가 있는데. 위험한 스포츠 예를 들어 패러글라이딩 같은 것은 보상제외됩니다.\n",
      "\n",
      "\n",
      "Input: 외국보험가입경력도 인정되나요?\n",
      "Output: 네 인정됩니다 .\n",
      "실제 응답: 인정됩니다.\n",
      "\n",
      "\n",
      "Input: 네, 환급금 확인도 할 수 있어요?\n",
      "Output: 인증-유효기간 만료시 갱신하여 다시 전체 재발급 받으셔야 됩니다 .\n",
      "실제 응답: 네, 마이페이지에서 확인하실 수 있습니다. \n",
      "\n",
      "\n",
      "Input: 업무시간은 어떻게 되죠?\n",
      "Output: 평일 09시 부터23시까지 입니다 .\n",
      "실제 응답: 평일 09시 부터23시까지 입니다.\n",
      "\n",
      "\n",
      "Input: 대출모집인도 특수형태 근로종사자인가요?\n",
      "Output: 네 회사에 소속되어 있다면 퀵서비스 기사도 특수형태 근로종사자입니다 .\n",
      "실제 응답: 네 맞습니다.\n",
      "\n",
      "\n",
      "Input: 연급지급기간은요?\n",
      "Output: 네 ,  또한 공동명의인 전원의 실명확인증표와 전원이 날인한 확인서가 필요합니다 .\n",
      "실제 응답: 수익자의 연령이 만 40세가 경과 하고 적립기간이 종료한때부터 5년 이상연단위\n",
      "\n",
      "\n",
      "Input: 가입자를 위한 서비스군요?\n",
      "Output: Money Market Fund 입니다 .\n",
      "실제 응답: 네. 보험계약 체결에 관한 고객 권리를 보호하고자 도입된 서비스를 말합니다.\n",
      "\n",
      "\n"
     ]
    }
   ],
   "source": [
    "for i,row in test.iterrows():\n",
    "    output = predict(row['고객질의'])\n",
    "    print('실제 응답:', row['상담원_응대'])\n",
    "    print('\\n')"
   ]
  },
  {
   "cell_type": "code",
   "execution_count": null,
   "id": "3725cbc3",
   "metadata": {},
   "outputs": [],
   "source": []
  }
 ],
 "metadata": {
  "accelerator": "GPU",
  "colab": {
   "name": "CHAT.ipynb",
   "provenance": []
  },
  "gpuClass": "standard",
  "kernelspec": {
   "display_name": "Python 3",
   "language": "python",
   "name": "python3"
  },
  "language_info": {
   "codemirror_mode": {
    "name": "ipython",
    "version": 3
   },
   "file_extension": ".py",
   "mimetype": "text/x-python",
   "name": "python",
   "nbconvert_exporter": "python",
   "pygments_lexer": "ipython3",
   "version": "3.6.13"
  }
 },
 "nbformat": 4,
 "nbformat_minor": 5
}
